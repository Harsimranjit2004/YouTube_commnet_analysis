{
 "cells": [
  {
   "cell_type": "code",
   "execution_count": 2,
   "metadata": {},
   "outputs": [
    {
     "name": "stderr",
     "output_type": "stream",
     "text": [
      "2024/10/30 16:52:53 INFO mlflow.tracking.fluent: Experiment with name 'exp 5 - hp' does not exist. Creating a new experiment.\n"
     ]
    }
   ],
   "source": [
    "import mlflow\n",
    "mlflow.set_experiment('exp 5 - hp')\n",
    "mlflow.set_tracking_uri('http://18.116.112.58:5000')"
   ]
  },
  {
   "cell_type": "code",
   "execution_count": 3,
   "metadata": {},
   "outputs": [
    {
     "name": "stdout",
     "output_type": "stream",
     "text": [
      "Collecting optuna\n",
      "  Downloading optuna-4.0.0-py3-none-any.whl (362 kB)\n",
      "\u001b[K     |████████████████████████████████| 362 kB 7.6 MB/s eta 0:00:01\n",
      "\u001b[?25hRequirement already satisfied: tqdm in /Users/harsimranjitsingh/Desktop/youtube_comment_analysis/myenv/lib/python3.9/site-packages (from optuna) (4.66.6)\n",
      "Requirement already satisfied: PyYAML in /Users/harsimranjitsingh/Desktop/youtube_comment_analysis/myenv/lib/python3.9/site-packages (from optuna) (6.0.2)\n",
      "Requirement already satisfied: numpy in /Users/harsimranjitsingh/Desktop/youtube_comment_analysis/myenv/lib/python3.9/site-packages (from optuna) (2.0.2)\n",
      "Requirement already satisfied: alembic>=1.5.0 in /Users/harsimranjitsingh/Desktop/youtube_comment_analysis/myenv/lib/python3.9/site-packages (from optuna) (1.13.3)\n",
      "Requirement already satisfied: packaging>=20.0 in /Users/harsimranjitsingh/Desktop/youtube_comment_analysis/myenv/lib/python3.9/site-packages (from optuna) (24.1)\n",
      "Collecting colorlog\n",
      "  Downloading colorlog-6.9.0-py3-none-any.whl (11 kB)\n",
      "Requirement already satisfied: sqlalchemy>=1.3.0 in /Users/harsimranjitsingh/Desktop/youtube_comment_analysis/myenv/lib/python3.9/site-packages (from optuna) (2.0.36)\n",
      "Requirement already satisfied: Mako in /Users/harsimranjitsingh/Desktop/youtube_comment_analysis/myenv/lib/python3.9/site-packages (from alembic>=1.5.0->optuna) (1.3.6)\n",
      "Requirement already satisfied: typing-extensions>=4 in /Users/harsimranjitsingh/Desktop/youtube_comment_analysis/myenv/lib/python3.9/site-packages (from alembic>=1.5.0->optuna) (4.12.2)\n",
      "Requirement already satisfied: MarkupSafe>=0.9.2 in /Users/harsimranjitsingh/Desktop/youtube_comment_analysis/myenv/lib/python3.9/site-packages (from Mako->alembic>=1.5.0->optuna) (3.0.2)\n",
      "Installing collected packages: colorlog, optuna\n",
      "Successfully installed colorlog-6.9.0 optuna-4.0.0\n",
      "\u001b[33mWARNING: You are using pip version 21.2.4; however, version 24.3.1 is available.\n",
      "You should consider upgrading via the '/Users/harsimranjitsingh/Desktop/youtube_comment_analysis/myenv/bin/python3 -m pip install --upgrade pip' command.\u001b[0m\n"
     ]
    }
   ],
   "source": [
    "!pip install optuna"
   ]
  },
  {
   "cell_type": "code",
   "execution_count": 4,
   "metadata": {},
   "outputs": [
    {
     "name": "stderr",
     "output_type": "stream",
     "text": [
      "/Users/harsimranjitsingh/Desktop/youtube_comment_analysis/myenv/lib/python3.9/site-packages/tqdm/auto.py:21: TqdmWarning: IProgress not found. Please update jupyter and ipywidgets. See https://ipywidgets.readthedocs.io/en/stable/user_install.html\n",
      "  from .autonotebook import tqdm as notebook_tqdm\n"
     ]
    }
   ],
   "source": [
    "import pandas as pd\n",
    "from sklearn.feature_extraction.text import TfidfVectorizer\n",
    "from sklearn.model_selection import train_test_split\n",
    "from sklearn.metrics import accuracy_score, classification_report\n",
    "from sklearn.svm import SVC\n",
    "from imblearn.over_sampling import SMOTE\n",
    "import mlflow\n",
    "import mlflow.sklearn\n",
    "import optuna"
   ]
  },
  {
   "cell_type": "code",
   "execution_count": 5,
   "metadata": {},
   "outputs": [],
   "source": [
    "df = pd.read_csv('/Users/harsimranjitsingh/Desktop/youtube_comment_analysis/notebooks/dataset.csv')\n",
    "df.dropna(inplace=True)"
   ]
  },
  {
   "cell_type": "code",
   "execution_count": 6,
   "metadata": {},
   "outputs": [
    {
     "name": "stderr",
     "output_type": "stream",
     "text": [
      "[I 2024-10-30 16:53:50,334] A new study created in memory with name: no-name-25a83b60-4b7c-44e8-a9c0-248d2d062123\n",
      "[I 2024-10-30 16:59:03,224] Trial 0 finished with value: 0.8229761149862609 and parameters: {'C': 1.2701535042522643, 'kernel': 'rbf'}. Best is trial 0 with value: 0.8229761149862609.\n",
      "[I 2024-10-30 17:04:42,885] Trial 1 finished with value: 0.40720777848235046 and parameters: {'C': 0.005349264210720577, 'kernel': 'rbf'}. Best is trial 0 with value: 0.8229761149862609.\n",
      "[I 2024-10-30 17:06:53,085] Trial 2 finished with value: 0.7454026632847178 and parameters: {'C': 0.16068901467998134, 'kernel': 'linear'}. Best is trial 0 with value: 0.8229761149862609.\n",
      "[I 2024-10-30 17:10:00,702] Trial 3 finished with value: 0.44831959416613826 and parameters: {'C': 0.00039856637860507713, 'kernel': 'linear'}. Best is trial 0 with value: 0.8229761149862609.\n",
      "[I 2024-10-30 17:13:09,804] Trial 4 finished with value: 0.3628196998520397 and parameters: {'C': 0.0012309866962127672, 'kernel': 'poly'}. Best is trial 0 with value: 0.8229761149862609.\n",
      "[I 2024-10-30 17:16:58,874] Trial 5 finished with value: 0.44831959416613826 and parameters: {'C': 0.0001033777927639979, 'kernel': 'linear'}. Best is trial 0 with value: 0.8229761149862609.\n"
     ]
    }
   ],
   "source": [
    "# Step 1: (Optional) Remapping - skipped since not strictly needed for SVM\n",
    "\n",
    "# Step 2: Remove rows where the target labels (category) are NaN\n",
    "df = df.dropna(subset=['category'])\n",
    "\n",
    "# Step 3: TF-IDF vectorizer setup\n",
    "ngram_range = (1, 3)  # Trigram\n",
    "max_features = 1000  # Set max_features to 1000\n",
    "vectorizer = TfidfVectorizer(ngram_range=ngram_range, max_features=max_features)\n",
    "X = vectorizer.fit_transform(df['clean_comment'])\n",
    "y = df['category']\n",
    "\n",
    "# Step 4: Apply SMOTE to handle class imbalance\n",
    "smote = SMOTE(random_state=42)\n",
    "X_resampled, y_resampled = smote.fit_resample(X, y)\n",
    "\n",
    "# Step 5: Train-test split\n",
    "X_train, X_test, y_train, y_test = train_test_split(X_resampled, y_resampled, test_size=0.2, random_state=42, stratify=y_resampled)\n",
    "\n",
    "# Function to log results in MLflow\n",
    "def log_mlflow(model_name, model, X_train, X_test, y_train, y_test):\n",
    "    with mlflow.start_run():\n",
    "        # Log model type\n",
    "        mlflow.set_tag(\"mlflow.runName\", f\"{model_name}_SMOTE_TFIDF_Trigrams\")\n",
    "        mlflow.set_tag(\"experiment_type\", \"algorithm_comparison\")\n",
    "\n",
    "        # Log algorithm name as a parameter\n",
    "        mlflow.log_param(\"algo_name\", model_name)\n",
    "\n",
    "        # Train model\n",
    "        model.fit(X_train, y_train)\n",
    "        y_pred = model.predict(X_test)\n",
    "\n",
    "        # Log accuracy\n",
    "        accuracy = accuracy_score(y_test, y_pred)\n",
    "        mlflow.log_metric(\"accuracy\", accuracy)\n",
    "\n",
    "        # Log classification report\n",
    "        classification_rep = classification_report(y_test, y_pred, output_dict=True)\n",
    "        for label, metrics in classification_rep.items():\n",
    "            if isinstance(metrics, dict):\n",
    "                for metric, value in metrics.items():\n",
    "                    mlflow.log_metric(f\"{label}_{metric}\", value)\n",
    "\n",
    "        # Log the model\n",
    "        mlflow.sklearn.log_model(model, f\"{model_name}_model\")\n",
    "\n",
    "\n",
    "# Step 6: Optuna objective function for SVM\n",
    "def objective_svm(trial):\n",
    "    C = trial.suggest_float('C', 1e-4, 10.0, log=True)\n",
    "    kernel = trial.suggest_categorical('kernel', ['linear', 'rbf', 'poly'])\n",
    "\n",
    "    model = SVC(C=C, kernel=kernel, random_state=42)\n",
    "    return accuracy_score(y_test, model.fit(X_train, y_train).predict(X_test))\n",
    "\n",
    "\n",
    "# Step 7: Run Optuna for SVM, log the best model only\n",
    "def run_optuna_experiment():\n",
    "    study = optuna.create_study(direction=\"maximize\")\n",
    "    study.optimize(objective_svm, n_trials=30)\n",
    "\n",
    "    # Get the best parameters and log only the best model\n",
    "    best_params = study.best_params\n",
    "    best_model = SVC(C=best_params['C'], kernel=best_params['kernel'], random_state=42)\n",
    "\n",
    "    # Log the best model with MLflow, passing the algo_name as \"SVM\"\n",
    "    log_mlflow(\"SVM\", best_model, X_train, X_test, y_train, y_test)\n",
    "\n",
    "# Run the experiment for SVM\n",
    "run_optuna_experiment()\n"
   ]
  }
 ],
 "metadata": {
  "kernelspec": {
   "display_name": "myenv",
   "language": "python",
   "name": "python3"
  },
  "language_info": {
   "codemirror_mode": {
    "name": "ipython",
    "version": 3
   },
   "file_extension": ".py",
   "mimetype": "text/x-python",
   "name": "python",
   "nbconvert_exporter": "python",
   "pygments_lexer": "ipython3",
   "version": "3.9.6"
  }
 },
 "nbformat": 4,
 "nbformat_minor": 2
}
