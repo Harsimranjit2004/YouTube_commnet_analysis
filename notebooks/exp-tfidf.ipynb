{
 "cells": [
  {
   "cell_type": "code",
   "execution_count": null,
   "metadata": {},
   "outputs": [],
   "source": [
    "!aws configure"
   ]
  },
  {
   "cell_type": "code",
   "execution_count": 1,
   "metadata": {},
   "outputs": [],
   "source": [
    "import mlflow"
   ]
  },
  {
   "cell_type": "code",
   "execution_count": 2,
   "metadata": {},
   "outputs": [],
   "source": [
    "mlflow.set_tracking_uri('http://18.116.112.58:5000')\n"
   ]
  },
  {
   "cell_type": "code",
   "execution_count": 3,
   "metadata": {},
   "outputs": [
    {
     "name": "stderr",
     "output_type": "stream",
     "text": [
      "2024/10/30 14:48:12 INFO mlflow.tracking.fluent: Experiment with name 'Exp 2 - bow vs Tfidf' does not exist. Creating a new experiment.\n"
     ]
    },
    {
     "data": {
      "text/plain": [
       "<Experiment: artifact_location='s3://mlflow-yt-bucket/433544259688379656', creation_time=1730314092207, experiment_id='433544259688379656', last_update_time=1730314092207, lifecycle_stage='active', name='Exp 2 - bow vs Tfidf', tags={}>"
      ]
     },
     "execution_count": 3,
     "metadata": {},
     "output_type": "execute_result"
    }
   ],
   "source": [
    "mlflow.set_experiment('Exp 2 - bow vs Tfidf')\n"
   ]
  },
  {
   "cell_type": "code",
   "execution_count": 4,
   "metadata": {},
   "outputs": [],
   "source": [
    "from sklearn.feature_extraction.text import CountVectorizer, TfidfVectorizer\n",
    "from sklearn.ensemble import RandomForestClassifier\n",
    "from sklearn.model_selection import train_test_split\n",
    "from sklearn.metrics import accuracy_score, classification_report, confusion_matrix\n",
    "import mlflow.sklearn\n",
    "import matplotlib.pyplot as plt\n",
    "import seaborn as sns\n",
    "import pandas as pd\n",
    "import os"
   ]
  },
  {
   "cell_type": "code",
   "execution_count": 5,
   "metadata": {},
   "outputs": [],
   "source": [
    "df = pd.read_csv('/Users/harsimranjitsingh/Desktop/youtube_comment_analysis/notebooks/dataset.csv')"
   ]
  },
  {
   "cell_type": "code",
   "execution_count": 6,
   "metadata": {},
   "outputs": [
    {
     "data": {
      "text/html": [
       "<div>\n",
       "<style scoped>\n",
       "    .dataframe tbody tr th:only-of-type {\n",
       "        vertical-align: middle;\n",
       "    }\n",
       "\n",
       "    .dataframe tbody tr th {\n",
       "        vertical-align: top;\n",
       "    }\n",
       "\n",
       "    .dataframe thead th {\n",
       "        text-align: right;\n",
       "    }\n",
       "</style>\n",
       "<table border=\"1\" class=\"dataframe\">\n",
       "  <thead>\n",
       "    <tr style=\"text-align: right;\">\n",
       "      <th></th>\n",
       "      <th>clean_comment</th>\n",
       "      <th>category</th>\n",
       "    </tr>\n",
       "  </thead>\n",
       "  <tbody>\n",
       "    <tr>\n",
       "      <th>0</th>\n",
       "      <td>family mormon never tried explain still stare ...</td>\n",
       "      <td>1</td>\n",
       "    </tr>\n",
       "    <tr>\n",
       "      <th>1</th>\n",
       "      <td>buddhism much lot compatible christianity espe...</td>\n",
       "      <td>1</td>\n",
       "    </tr>\n",
       "    <tr>\n",
       "      <th>2</th>\n",
       "      <td>seriously say thing first get complex explain ...</td>\n",
       "      <td>-1</td>\n",
       "    </tr>\n",
       "    <tr>\n",
       "      <th>3</th>\n",
       "      <td>learned want teach different focus goal not wr...</td>\n",
       "      <td>0</td>\n",
       "    </tr>\n",
       "    <tr>\n",
       "      <th>4</th>\n",
       "      <td>benefit may want read living buddha living chr...</td>\n",
       "      <td>1</td>\n",
       "    </tr>\n",
       "    <tr>\n",
       "      <th>...</th>\n",
       "      <td>...</td>\n",
       "      <td>...</td>\n",
       "    </tr>\n",
       "    <tr>\n",
       "      <th>36794</th>\n",
       "      <td>jesus</td>\n",
       "      <td>0</td>\n",
       "    </tr>\n",
       "    <tr>\n",
       "      <th>36795</th>\n",
       "      <td>kya bhai pure saal chutiya banaya modi aur jab...</td>\n",
       "      <td>1</td>\n",
       "    </tr>\n",
       "    <tr>\n",
       "      <th>36796</th>\n",
       "      <td>downvote karna tha par upvote hogaya</td>\n",
       "      <td>0</td>\n",
       "    </tr>\n",
       "    <tr>\n",
       "      <th>36797</th>\n",
       "      <td>haha nice</td>\n",
       "      <td>1</td>\n",
       "    </tr>\n",
       "    <tr>\n",
       "      <th>36798</th>\n",
       "      <td>facebook working bjp cell</td>\n",
       "      <td>0</td>\n",
       "    </tr>\n",
       "  </tbody>\n",
       "</table>\n",
       "<p>36799 rows × 2 columns</p>\n",
       "</div>"
      ],
      "text/plain": [
       "                                           clean_comment  category\n",
       "0      family mormon never tried explain still stare ...         1\n",
       "1      buddhism much lot compatible christianity espe...         1\n",
       "2      seriously say thing first get complex explain ...        -1\n",
       "3      learned want teach different focus goal not wr...         0\n",
       "4      benefit may want read living buddha living chr...         1\n",
       "...                                                  ...       ...\n",
       "36794                                              jesus         0\n",
       "36795  kya bhai pure saal chutiya banaya modi aur jab...         1\n",
       "36796               downvote karna tha par upvote hogaya         0\n",
       "36797                                          haha nice         1\n",
       "36798                          facebook working bjp cell         0\n",
       "\n",
       "[36799 rows x 2 columns]"
      ]
     },
     "execution_count": 6,
     "metadata": {},
     "output_type": "execute_result"
    }
   ],
   "source": [
    "df"
   ]
  },
  {
   "cell_type": "code",
   "execution_count": 8,
   "metadata": {},
   "outputs": [
    {
     "name": "stderr",
     "output_type": "stream",
     "text": [
      "/var/folders/6v/l32qpxw579j25nxjzdxgdqdh0000gn/T/ipykernel_25105/3035671505.py:4: FutureWarning: A value is trying to be set on a copy of a DataFrame or Series through chained assignment using an inplace method.\n",
      "The behavior will change in pandas 3.0. This inplace method will never work because the intermediate object on which we are setting values always behaves as a copy.\n",
      "\n",
      "For example, when doing 'df[col].method(value, inplace=True)', try using 'df.method({col: value}, inplace=True)' or df[col] = df[col].method(value) instead, to perform the operation inplace on the original object.\n",
      "\n",
      "\n",
      "  df['clean_comment'].fillna('', inplace=True)\n",
      "2024/10/30 15:06:58 WARNING mlflow.models.model: Model logged without a signature and input example. Please set `input_example` parameter when logging the model to auto infer the model signature.\n",
      "2024/10/30 15:07:00 INFO mlflow.tracking._tracking_service.client: 🏃 View run BoW_(1, 1)_RandomForest at: http://18.116.112.58:5000/#/experiments/433544259688379656/runs/e06639a49d50427f8064379cf104a4a0.\n",
      "2024/10/30 15:07:00 INFO mlflow.tracking._tracking_service.client: 🧪 View experiment at: http://18.116.112.58:5000/#/experiments/433544259688379656.\n",
      "2024/10/30 15:07:08 WARNING mlflow.models.model: Model logged without a signature and input example. Please set `input_example` parameter when logging the model to auto infer the model signature.\n",
      "2024/10/30 15:07:09 INFO mlflow.tracking._tracking_service.client: 🏃 View run TF-IDF_(1, 1)_RandomForest at: http://18.116.112.58:5000/#/experiments/433544259688379656/runs/b431210523cb4efb9170fc0ea1e4dd8c.\n",
      "2024/10/30 15:07:09 INFO mlflow.tracking._tracking_service.client: 🧪 View experiment at: http://18.116.112.58:5000/#/experiments/433544259688379656.\n",
      "2024/10/30 15:07:18 WARNING mlflow.models.model: Model logged without a signature and input example. Please set `input_example` parameter when logging the model to auto infer the model signature.\n",
      "2024/10/30 15:07:20 INFO mlflow.tracking._tracking_service.client: 🏃 View run BoW_(1, 2)_RandomForest at: http://18.116.112.58:5000/#/experiments/433544259688379656/runs/44b502b38aee42229dc0d87a22c0fb10.\n",
      "2024/10/30 15:07:20 INFO mlflow.tracking._tracking_service.client: 🧪 View experiment at: http://18.116.112.58:5000/#/experiments/433544259688379656.\n",
      "2024/10/30 15:07:29 WARNING mlflow.models.model: Model logged without a signature and input example. Please set `input_example` parameter when logging the model to auto infer the model signature.\n",
      "2024/10/30 15:07:31 INFO mlflow.tracking._tracking_service.client: 🏃 View run TF-IDF_(1, 2)_RandomForest at: http://18.116.112.58:5000/#/experiments/433544259688379656/runs/a756d1d1695b4a4aa82b1f50cedfc20d.\n",
      "2024/10/30 15:07:31 INFO mlflow.tracking._tracking_service.client: 🧪 View experiment at: http://18.116.112.58:5000/#/experiments/433544259688379656.\n",
      "2024/10/30 15:08:27 WARNING mlflow.models.model: Model logged without a signature and input example. Please set `input_example` parameter when logging the model to auto infer the model signature.\n",
      "2024/10/30 15:08:36 INFO mlflow.tracking._tracking_service.client: 🏃 View run BoW_(1, 3)_RandomForest at: http://18.116.112.58:5000/#/experiments/433544259688379656/runs/3caa8a53fad44634be34a96454725ce7.\n",
      "2024/10/30 15:08:36 INFO mlflow.tracking._tracking_service.client: 🧪 View experiment at: http://18.116.112.58:5000/#/experiments/433544259688379656.\n",
      "2024/10/30 15:08:47 WARNING mlflow.models.model: Model logged without a signature and input example. Please set `input_example` parameter when logging the model to auto infer the model signature.\n",
      "2024/10/30 15:08:55 INFO mlflow.tracking._tracking_service.client: 🏃 View run TF-IDF_(1, 3)_RandomForest at: http://18.116.112.58:5000/#/experiments/433544259688379656/runs/004d5757a638420b8190c62afb42b08a.\n",
      "2024/10/30 15:08:55 INFO mlflow.tracking._tracking_service.client: 🧪 View experiment at: http://18.116.112.58:5000/#/experiments/433544259688379656.\n"
     ]
    }
   ],
   "source": [
    "\n",
    "# Step 1: Function to run the experiment\n",
    "def run_experiment(vectorizer_type, ngram_range, vectorizer_max_features, vectorizer_name):\n",
    "    # Step 2: Vectorization\n",
    "    df['clean_comment'].fillna('', inplace=True)\n",
    "    if vectorizer_type == \"BoW\":\n",
    "        vectorizer = CountVectorizer(ngram_range=ngram_range, max_features=vectorizer_max_features)\n",
    "    else:\n",
    "        vectorizer = TfidfVectorizer(ngram_range=ngram_range, max_features=vectorizer_max_features)\n",
    "\n",
    "    X_train, X_test, y_train, y_test = train_test_split(df['clean_comment'], df['category'], test_size=0.2, random_state=42, stratify=df['category'])\n",
    "\n",
    "    X_train = vectorizer.fit_transform(X_train)\n",
    "    X_test = vectorizer.transform(X_test)\n",
    "\n",
    "    # Step 4: Define and train a Random Forest model\n",
    "    with mlflow.start_run() as run:\n",
    "        # Set tags for the experiment and run\n",
    "        mlflow.set_tag(\"mlflow.runName\", f\"{vectorizer_name}_{ngram_range}_RandomForest\")\n",
    "        mlflow.set_tag(\"experiment_type\", \"feature_engineering\")\n",
    "        mlflow.set_tag(\"model_type\", \"RandomForestClassifier\")\n",
    "\n",
    "        # Add a description\n",
    "        mlflow.set_tag(\"description\", f\"RandomForest with {vectorizer_name}, ngram_range={ngram_range}, max_features={vectorizer_max_features}\")\n",
    "\n",
    "        # Log vectorizer parameters\n",
    "        mlflow.log_param(\"vectorizer_type\", vectorizer_type)\n",
    "        mlflow.log_param(\"ngram_range\", ngram_range)\n",
    "        mlflow.log_param(\"vectorizer_max_features\", vectorizer_max_features)\n",
    "\n",
    "        # Log Random Forest parameters\n",
    "        n_estimators = 200\n",
    "        max_depth = 15\n",
    "\n",
    "        mlflow.log_param(\"n_estimators\", n_estimators)\n",
    "        mlflow.log_param(\"max_depth\", max_depth)\n",
    "\n",
    "        # Initialize and train the model\n",
    "        model = RandomForestClassifier(n_estimators=n_estimators, max_depth=max_depth, random_state=42)\n",
    "        model.fit(X_train, y_train)\n",
    "\n",
    "        # Step 5: Make predictions and log metrics\n",
    "        y_pred = model.predict(X_test)\n",
    "\n",
    "        # Log accuracy\n",
    "        accuracy = accuracy_score(y_test, y_pred)\n",
    "        mlflow.log_metric(\"accuracy\", accuracy)\n",
    "\n",
    "        # Log classification report\n",
    "        classification_rep = classification_report(y_test, y_pred, output_dict=True)\n",
    "        for label, metrics in classification_rep.items():\n",
    "            if isinstance(metrics, dict):\n",
    "                for metric, value in metrics.items():\n",
    "                    mlflow.log_metric(f\"{label}_{metric}\", value)\n",
    "\n",
    "        # Log confusion matrix\n",
    "        conf_matrix = confusion_matrix(y_test, y_pred)\n",
    "        plt.figure(figsize=(8, 6))\n",
    "        sns.heatmap(conf_matrix, annot=True, fmt=\"d\", cmap=\"Blues\")\n",
    "        plt.xlabel(\"Predicted\")\n",
    "        plt.ylabel(\"Actual\")\n",
    "        plt.title(f\"Confusion Matrix: {vectorizer_name}, {ngram_range}\")\n",
    "        plt.savefig(\"confusion_matrix.png\")\n",
    "        mlflow.log_artifact(\"confusion_matrix.png\")\n",
    "        plt.close()\n",
    "\n",
    "        # Log the model\n",
    "        mlflow.sklearn.log_model(model, f\"random_forest_model_{vectorizer_name}_{ngram_range}\")\n",
    "\n",
    "# Step 6: Run experiments for BoW and TF-IDF with different n-grams\n",
    "ngram_ranges = [(1, 1), (1, 2), (1, 3)]  # unigrams, bigrams, trigrams\n",
    "max_features = 5000  # Example max feature size\n",
    "\n",
    "for ngram_range in ngram_ranges:\n",
    "    # BoW Experiments\n",
    "    run_experiment(\"BoW\", ngram_range, max_features, vectorizer_name=\"BoW\")\n",
    "\n",
    "    # TF-IDF Experiments\n",
    "    run_experiment(\"TF-IDF\", ngram_range, max_features, vectorizer_name=\"TF-IDF\")\n"
   ]
  }
 ],
 "metadata": {
  "kernelspec": {
   "display_name": "myenv",
   "language": "python",
   "name": "python3"
  },
  "language_info": {
   "codemirror_mode": {
    "name": "ipython",
    "version": 3
   },
   "file_extension": ".py",
   "mimetype": "text/x-python",
   "name": "python",
   "nbconvert_exporter": "python",
   "pygments_lexer": "ipython3",
   "version": "3.9.6"
  }
 },
 "nbformat": 4,
 "nbformat_minor": 2
}
